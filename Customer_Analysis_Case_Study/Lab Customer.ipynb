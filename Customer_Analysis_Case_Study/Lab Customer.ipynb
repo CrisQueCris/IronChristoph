{
 "cells": [
  {
   "cell_type": "code",
   "execution_count": 46,
   "metadata": {},
   "outputs": [],
   "source": [
    "import pandas as pd"
   ]
  },
  {
   "cell_type": "code",
   "execution_count": 47,
   "metadata": {},
   "outputs": [],
   "source": [
    "\n",
    "\n",
    "file1 = pd.read_csv('Data/file1.csv')\n",
    "\n",
    "file2 = pd.read_csv('Data/file2.csv')\n",
    "\n",
    "file3 = pd.read_csv('Data/file3.csv')\n",
    "file_list = [file1, file2, file3]"
   ]
  },
  {
   "cell_type": "code",
   "execution_count": 48,
   "metadata": {},
   "outputs": [
    {
     "data": {
      "text/plain": [
       "[Index(['Customer', 'ST', 'GENDER', 'Education', 'Customer Lifetime Value',\n",
       "        'Income', 'Monthly Premium Auto', 'Number of Open Complaints',\n",
       "        'Policy Type', 'Vehicle Class', 'Total Claim Amount'],\n",
       "       dtype='object'),\n",
       " Index(['Customer', 'ST', 'GENDER', 'Education', 'Customer Lifetime Value',\n",
       "        'Income', 'Monthly Premium Auto', 'Number of Open Complaints',\n",
       "        'Total Claim Amount', 'Policy Type', 'Vehicle Class'],\n",
       "       dtype='object'),\n",
       " Index(['Customer', 'State', 'Customer Lifetime Value', 'Education', 'Gender',\n",
       "        'Income', 'Monthly Premium Auto', 'Number of Open Complaints',\n",
       "        'Policy Type', 'Total Claim Amount', 'Vehicle Class'],\n",
       "       dtype='object')]"
      ]
     },
     "execution_count": 48,
     "metadata": {},
     "output_type": "execute_result"
    }
   ],
   "source": [
    "list(map(lambda x: x.columns, file_list))"
   ]
  },
  {
   "cell_type": "code",
   "execution_count": 49,
   "metadata": {},
   "outputs": [
    {
     "data": {
      "text/plain": [
       "[4008, 996, 7070]"
      ]
     },
     "execution_count": 49,
     "metadata": {},
     "output_type": "execute_result"
    }
   ],
   "source": [
    "list(map(len, file_list))"
   ]
  },
  {
   "cell_type": "code",
   "execution_count": 50,
   "metadata": {},
   "outputs": [
    {
     "data": {
      "text/plain": [
       "[     customer          st gender             education  \\\n",
       " 0     RB50392  Washington    NaN                Master   \n",
       " 1     QZ44356     Arizona      F              Bachelor   \n",
       " 2     AI49188      Nevada      F              Bachelor   \n",
       " 3     WW63253  California      M              Bachelor   \n",
       " 4     GA49547  Washington      M  High School or Below   \n",
       " ...       ...         ...    ...                   ...   \n",
       " 4003      NaN         NaN    NaN                   NaN   \n",
       " 4004      NaN         NaN    NaN                   NaN   \n",
       " 4005      NaN         NaN    NaN                   NaN   \n",
       " 4006      NaN         NaN    NaN                   NaN   \n",
       " 4007      NaN         NaN    NaN                   NaN   \n",
       " \n",
       "      customer lifetime value   income  monthly premium auto  \\\n",
       " 0                        NaN      0.0                1000.0   \n",
       " 1                 697953.59%      0.0                  94.0   \n",
       " 2                1288743.17%  48767.0                 108.0   \n",
       " 3                 764586.18%      0.0                 106.0   \n",
       " 4                 536307.65%  36357.0                  68.0   \n",
       " ...                      ...      ...                   ...   \n",
       " 4003                     NaN      NaN                   NaN   \n",
       " 4004                     NaN      NaN                   NaN   \n",
       " 4005                     NaN      NaN                   NaN   \n",
       " 4006                     NaN      NaN                   NaN   \n",
       " 4007                     NaN      NaN                   NaN   \n",
       " \n",
       "      number of open complaints     policy type  vehicle class  \\\n",
       " 0                       1/0/00   Personal Auto  Four-Door Car   \n",
       " 1                       1/0/00   Personal Auto  Four-Door Car   \n",
       " 2                       1/0/00   Personal Auto   Two-Door Car   \n",
       " 3                       1/0/00  Corporate Auto            SUV   \n",
       " 4                       1/0/00   Personal Auto  Four-Door Car   \n",
       " ...                        ...             ...            ...   \n",
       " 4003                       NaN             NaN            NaN   \n",
       " 4004                       NaN             NaN            NaN   \n",
       " 4005                       NaN             NaN            NaN   \n",
       " 4006                       NaN             NaN            NaN   \n",
       " 4007                       NaN             NaN            NaN   \n",
       " \n",
       "       total claim amount  \n",
       " 0               2.704934  \n",
       " 1            1131.464935  \n",
       " 2             566.472247  \n",
       " 3             529.881344  \n",
       " 4              17.269323  \n",
       " ...                  ...  \n",
       " 4003                 NaN  \n",
       " 4004                 NaN  \n",
       " 4005                 NaN  \n",
       " 4006                 NaN  \n",
       " 4007                 NaN  \n",
       " \n",
       " [4008 rows x 11 columns],\n",
       "     customer          st gender education customer lifetime value  income  \\\n",
       " 0    GS98873     Arizona      F  Bachelor              323912.47%   16061   \n",
       " 1    CW49887  California      F    Master              462680.11%   79487   \n",
       " 2    MY31220  California      F   College              899704.02%   54230   \n",
       " 3    UH35128      Oregon      F   College             2580706.30%   71210   \n",
       " 4    WH52799     Arizona      F   College              380812.21%   94903   \n",
       " ..       ...         ...    ...       ...                     ...     ...   \n",
       " 991  HV85198     Arizona      M    Master              847141.75%   63513   \n",
       " 992  BS91566     Arizona      F   College              543121.91%   58161   \n",
       " 993  IL40123      Nevada      F   College              568964.41%   83640   \n",
       " 994  MY32149  California      F    Master              368672.38%       0   \n",
       " 995  SA91515  California      M  Bachelor              399258.39%       0   \n",
       " \n",
       "      monthly premium auto number of open complaints  total claim amount  \\\n",
       " 0                      88                    1/0/00          633.600000   \n",
       " 1                     114                    1/0/00          547.200000   \n",
       " 2                     112                    1/0/00          537.600000   \n",
       " 3                     214                    1/1/00         1027.200000   \n",
       " 4                      94                    1/0/00          451.200000   \n",
       " ..                    ...                       ...                 ...   \n",
       " 991                    70                    1/0/00          185.667213   \n",
       " 992                    68                    1/0/00          140.747286   \n",
       " 993                    70                    1/0/00          471.050488   \n",
       " 994                    96                    1/0/00           28.460568   \n",
       " 995                   111                    1/0/00          700.349052   \n",
       " \n",
       "         policy type  vehicle class  \n",
       " 0     Personal Auto  Four-Door Car  \n",
       " 1      Special Auto            SUV  \n",
       " 2     Personal Auto   Two-Door Car  \n",
       " 3     Personal Auto     Luxury Car  \n",
       " 4    Corporate Auto   Two-Door Car  \n",
       " ..              ...            ...  \n",
       " 991   Personal Auto  Four-Door Car  \n",
       " 992  Corporate Auto  Four-Door Car  \n",
       " 993  Corporate Auto   Two-Door Car  \n",
       " 994   Personal Auto   Two-Door Car  \n",
       " 995   Personal Auto            SUV  \n",
       " \n",
       " [996 rows x 11 columns],\n",
       "      customer       state  customer lifetime value             education  \\\n",
       " 0     SA25987  Washington              3479.137523  High School or Below   \n",
       " 1     TB86706     Arizona              2502.637401                Master   \n",
       " 2     ZL73902      Nevada              3265.156348              Bachelor   \n",
       " 3     KX23516  California              4455.843406  High School or Below   \n",
       " 4     FN77294  California              7704.958480  High School or Below   \n",
       " ...       ...         ...                      ...                   ...   \n",
       " 7065  LA72316  California             23405.987980              Bachelor   \n",
       " 7066  PK87824  California              3096.511217               College   \n",
       " 7067  TD14365  California              8163.890428              Bachelor   \n",
       " 7068  UP19263  California              7524.442436               College   \n",
       " 7069  Y167826  California              2611.836866               College   \n",
       " \n",
       "      gender  income  monthly premium auto  number of open complaints  \\\n",
       " 0         M       0                   104                          0   \n",
       " 1         M       0                    66                          0   \n",
       " 2         F   25820                    82                          0   \n",
       " 3         F       0                   121                          0   \n",
       " 4         M   30366                   101                          2   \n",
       " ...     ...     ...                   ...                        ...   \n",
       " 7065      M   71941                    73                          0   \n",
       " 7066      F   21604                    79                          0   \n",
       " 7067      M       0                    85                          3   \n",
       " 7068      M   21941                    96                          0   \n",
       " 7069      M       0                    77                          0   \n",
       " \n",
       "          policy type  total claim amount  vehicle class  \n",
       " 0      Personal Auto          499.200000   Two-Door Car  \n",
       " 1      Personal Auto            3.468912   Two-Door Car  \n",
       " 2      Personal Auto          393.600000  Four-Door Car  \n",
       " 3      Personal Auto          699.615192            SUV  \n",
       " 4      Personal Auto          484.800000            SUV  \n",
       " ...              ...                 ...            ...  \n",
       " 7065   Personal Auto          198.234764  Four-Door Car  \n",
       " 7066  Corporate Auto          379.200000  Four-Door Car  \n",
       " 7067  Corporate Auto          790.784983  Four-Door Car  \n",
       " 7068   Personal Auto          691.200000  Four-Door Car  \n",
       " 7069  Corporate Auto          369.600000   Two-Door Car  \n",
       " \n",
       " [7070 rows x 11 columns]]"
      ]
     },
     "execution_count": 50,
     "metadata": {},
     "output_type": "execute_result"
    }
   ],
   "source": [
    "def lower_case_column_names(hk_df):\n",
    "    hk_df.columns=[i.lower() for i in hk_df.columns]\n",
    "    return hk_df\n",
    "\n",
    "list(map(lower_case_column_names, file_list))"
   ]
  },
  {
   "cell_type": "code",
   "execution_count": 51,
   "metadata": {},
   "outputs": [
    {
     "data": {
      "text/plain": [
       "[     customer       state gender             education  \\\n",
       " 0     RB50392  Washington    NaN                Master   \n",
       " 1     QZ44356     Arizona      F              Bachelor   \n",
       " 2     AI49188      Nevada      F              Bachelor   \n",
       " 3     WW63253  California      M              Bachelor   \n",
       " 4     GA49547  Washington      M  High School or Below   \n",
       " ...       ...         ...    ...                   ...   \n",
       " 4003      NaN         NaN    NaN                   NaN   \n",
       " 4004      NaN         NaN    NaN                   NaN   \n",
       " 4005      NaN         NaN    NaN                   NaN   \n",
       " 4006      NaN         NaN    NaN                   NaN   \n",
       " 4007      NaN         NaN    NaN                   NaN   \n",
       " \n",
       "      customer lifetime value   income  monthly premium auto  \\\n",
       " 0                        NaN      0.0                1000.0   \n",
       " 1                 697953.59%      0.0                  94.0   \n",
       " 2                1288743.17%  48767.0                 108.0   \n",
       " 3                 764586.18%      0.0                 106.0   \n",
       " 4                 536307.65%  36357.0                  68.0   \n",
       " ...                      ...      ...                   ...   \n",
       " 4003                     NaN      NaN                   NaN   \n",
       " 4004                     NaN      NaN                   NaN   \n",
       " 4005                     NaN      NaN                   NaN   \n",
       " 4006                     NaN      NaN                   NaN   \n",
       " 4007                     NaN      NaN                   NaN   \n",
       " \n",
       "      number of open complaints     policy type  vehicle class  \\\n",
       " 0                       1/0/00   Personal Auto  Four-Door Car   \n",
       " 1                       1/0/00   Personal Auto  Four-Door Car   \n",
       " 2                       1/0/00   Personal Auto   Two-Door Car   \n",
       " 3                       1/0/00  Corporate Auto            SUV   \n",
       " 4                       1/0/00   Personal Auto  Four-Door Car   \n",
       " ...                        ...             ...            ...   \n",
       " 4003                       NaN             NaN            NaN   \n",
       " 4004                       NaN             NaN            NaN   \n",
       " 4005                       NaN             NaN            NaN   \n",
       " 4006                       NaN             NaN            NaN   \n",
       " 4007                       NaN             NaN            NaN   \n",
       " \n",
       "       total claim amount  \n",
       " 0               2.704934  \n",
       " 1            1131.464935  \n",
       " 2             566.472247  \n",
       " 3             529.881344  \n",
       " 4              17.269323  \n",
       " ...                  ...  \n",
       " 4003                 NaN  \n",
       " 4004                 NaN  \n",
       " 4005                 NaN  \n",
       " 4006                 NaN  \n",
       " 4007                 NaN  \n",
       " \n",
       " [4008 rows x 11 columns],\n",
       "     customer       state gender education customer lifetime value  income  \\\n",
       " 0    GS98873     Arizona      F  Bachelor              323912.47%   16061   \n",
       " 1    CW49887  California      F    Master              462680.11%   79487   \n",
       " 2    MY31220  California      F   College              899704.02%   54230   \n",
       " 3    UH35128      Oregon      F   College             2580706.30%   71210   \n",
       " 4    WH52799     Arizona      F   College              380812.21%   94903   \n",
       " ..       ...         ...    ...       ...                     ...     ...   \n",
       " 991  HV85198     Arizona      M    Master              847141.75%   63513   \n",
       " 992  BS91566     Arizona      F   College              543121.91%   58161   \n",
       " 993  IL40123      Nevada      F   College              568964.41%   83640   \n",
       " 994  MY32149  California      F    Master              368672.38%       0   \n",
       " 995  SA91515  California      M  Bachelor              399258.39%       0   \n",
       " \n",
       "      monthly premium auto number of open complaints  total claim amount  \\\n",
       " 0                      88                    1/0/00          633.600000   \n",
       " 1                     114                    1/0/00          547.200000   \n",
       " 2                     112                    1/0/00          537.600000   \n",
       " 3                     214                    1/1/00         1027.200000   \n",
       " 4                      94                    1/0/00          451.200000   \n",
       " ..                    ...                       ...                 ...   \n",
       " 991                    70                    1/0/00          185.667213   \n",
       " 992                    68                    1/0/00          140.747286   \n",
       " 993                    70                    1/0/00          471.050488   \n",
       " 994                    96                    1/0/00           28.460568   \n",
       " 995                   111                    1/0/00          700.349052   \n",
       " \n",
       "         policy type  vehicle class  \n",
       " 0     Personal Auto  Four-Door Car  \n",
       " 1      Special Auto            SUV  \n",
       " 2     Personal Auto   Two-Door Car  \n",
       " 3     Personal Auto     Luxury Car  \n",
       " 4    Corporate Auto   Two-Door Car  \n",
       " ..              ...            ...  \n",
       " 991   Personal Auto  Four-Door Car  \n",
       " 992  Corporate Auto  Four-Door Car  \n",
       " 993  Corporate Auto   Two-Door Car  \n",
       " 994   Personal Auto   Two-Door Car  \n",
       " 995   Personal Auto            SUV  \n",
       " \n",
       " [996 rows x 11 columns],\n",
       "      customer       state  customer lifetime value             education  \\\n",
       " 0     SA25987  Washington              3479.137523  High School or Below   \n",
       " 1     TB86706     Arizona              2502.637401                Master   \n",
       " 2     ZL73902      Nevada              3265.156348              Bachelor   \n",
       " 3     KX23516  California              4455.843406  High School or Below   \n",
       " 4     FN77294  California              7704.958480  High School or Below   \n",
       " ...       ...         ...                      ...                   ...   \n",
       " 7065  LA72316  California             23405.987980              Bachelor   \n",
       " 7066  PK87824  California              3096.511217               College   \n",
       " 7067  TD14365  California              8163.890428              Bachelor   \n",
       " 7068  UP19263  California              7524.442436               College   \n",
       " 7069  Y167826  California              2611.836866               College   \n",
       " \n",
       "      gender  income  monthly premium auto  number of open complaints  \\\n",
       " 0         M       0                   104                          0   \n",
       " 1         M       0                    66                          0   \n",
       " 2         F   25820                    82                          0   \n",
       " 3         F       0                   121                          0   \n",
       " 4         M   30366                   101                          2   \n",
       " ...     ...     ...                   ...                        ...   \n",
       " 7065      M   71941                    73                          0   \n",
       " 7066      F   21604                    79                          0   \n",
       " 7067      M       0                    85                          3   \n",
       " 7068      M   21941                    96                          0   \n",
       " 7069      M       0                    77                          0   \n",
       " \n",
       "          policy type  total claim amount  vehicle class  \n",
       " 0      Personal Auto          499.200000   Two-Door Car  \n",
       " 1      Personal Auto            3.468912   Two-Door Car  \n",
       " 2      Personal Auto          393.600000  Four-Door Car  \n",
       " 3      Personal Auto          699.615192            SUV  \n",
       " 4      Personal Auto          484.800000            SUV  \n",
       " ...              ...                 ...            ...  \n",
       " 7065   Personal Auto          198.234764  Four-Door Car  \n",
       " 7066  Corporate Auto          379.200000  Four-Door Car  \n",
       " 7067  Corporate Auto          790.784983  Four-Door Car  \n",
       " 7068   Personal Auto          691.200000  Four-Door Car  \n",
       " 7069  Corporate Auto          369.600000   Two-Door Car  \n",
       " \n",
       " [7070 rows x 11 columns]]"
      ]
     },
     "execution_count": 51,
     "metadata": {},
     "output_type": "execute_result"
    }
   ],
   "source": [
    "def rename_columns(hk_df):\n",
    "    hk_df.rename(columns={'st':'state'}, inplace=True )\n",
    "    return hk_df\n",
    "\n",
    "list(map(rename_columns, file_list))\n",
    "\n"
   ]
  },
  {
   "cell_type": "code",
   "execution_count": 52,
   "metadata": {},
   "outputs": [
    {
     "data": {
      "text/plain": [
       "11"
      ]
     },
     "execution_count": 52,
     "metadata": {},
     "output_type": "execute_result"
    }
   ],
   "source": [
    "len(pd.concat(file_list, axis=0).columns)"
   ]
  },
  {
   "cell_type": "code",
   "execution_count": 53,
   "metadata": {},
   "outputs": [],
   "source": [
    "cons_df = pd.concat(file_list, axis=0)"
   ]
  },
  {
   "cell_type": "code",
   "execution_count": 54,
   "metadata": {},
   "outputs": [],
   "source": [
    "cons_df.drop(columns=[\"customer\"], inplace=True)"
   ]
  },
  {
   "cell_type": "code",
   "execution_count": 55,
   "metadata": {},
   "outputs": [
    {
     "data": {
      "text/html": [
       "<div>\n",
       "<style scoped>\n",
       "    .dataframe tbody tr th:only-of-type {\n",
       "        vertical-align: middle;\n",
       "    }\n",
       "\n",
       "    .dataframe tbody tr th {\n",
       "        vertical-align: top;\n",
       "    }\n",
       "\n",
       "    .dataframe thead th {\n",
       "        text-align: right;\n",
       "    }\n",
       "</style>\n",
       "<table border=\"1\" class=\"dataframe\">\n",
       "  <thead>\n",
       "    <tr style=\"text-align: right;\">\n",
       "      <th></th>\n",
       "      <th>state</th>\n",
       "      <th>gender</th>\n",
       "      <th>education</th>\n",
       "      <th>customer lifetime value</th>\n",
       "      <th>income</th>\n",
       "      <th>monthly premium auto</th>\n",
       "      <th>number of open complaints</th>\n",
       "      <th>policy type</th>\n",
       "      <th>vehicle class</th>\n",
       "      <th>total claim amount</th>\n",
       "    </tr>\n",
       "  </thead>\n",
       "  <tbody>\n",
       "    <tr>\n",
       "      <th>0</th>\n",
       "      <td>Washington</td>\n",
       "      <td>NaN</td>\n",
       "      <td>Master</td>\n",
       "      <td>NaN</td>\n",
       "      <td>0.0</td>\n",
       "      <td>1000.0</td>\n",
       "      <td>1/0/00</td>\n",
       "      <td>Personal Auto</td>\n",
       "      <td>Four-Door Car</td>\n",
       "      <td>2.704934</td>\n",
       "    </tr>\n",
       "    <tr>\n",
       "      <th>1</th>\n",
       "      <td>Arizona</td>\n",
       "      <td>F</td>\n",
       "      <td>Bachelor</td>\n",
       "      <td>697953.59%</td>\n",
       "      <td>0.0</td>\n",
       "      <td>94.0</td>\n",
       "      <td>1/0/00</td>\n",
       "      <td>Personal Auto</td>\n",
       "      <td>Four-Door Car</td>\n",
       "      <td>1131.464935</td>\n",
       "    </tr>\n",
       "    <tr>\n",
       "      <th>2</th>\n",
       "      <td>Nevada</td>\n",
       "      <td>F</td>\n",
       "      <td>Bachelor</td>\n",
       "      <td>1288743.17%</td>\n",
       "      <td>48767.0</td>\n",
       "      <td>108.0</td>\n",
       "      <td>1/0/00</td>\n",
       "      <td>Personal Auto</td>\n",
       "      <td>Two-Door Car</td>\n",
       "      <td>566.472247</td>\n",
       "    </tr>\n",
       "    <tr>\n",
       "      <th>3</th>\n",
       "      <td>California</td>\n",
       "      <td>M</td>\n",
       "      <td>Bachelor</td>\n",
       "      <td>764586.18%</td>\n",
       "      <td>0.0</td>\n",
       "      <td>106.0</td>\n",
       "      <td>1/0/00</td>\n",
       "      <td>Corporate Auto</td>\n",
       "      <td>SUV</td>\n",
       "      <td>529.881344</td>\n",
       "    </tr>\n",
       "    <tr>\n",
       "      <th>4</th>\n",
       "      <td>Washington</td>\n",
       "      <td>M</td>\n",
       "      <td>High School or Below</td>\n",
       "      <td>536307.65%</td>\n",
       "      <td>36357.0</td>\n",
       "      <td>68.0</td>\n",
       "      <td>1/0/00</td>\n",
       "      <td>Personal Auto</td>\n",
       "      <td>Four-Door Car</td>\n",
       "      <td>17.269323</td>\n",
       "    </tr>\n",
       "    <tr>\n",
       "      <th>...</th>\n",
       "      <td>...</td>\n",
       "      <td>...</td>\n",
       "      <td>...</td>\n",
       "      <td>...</td>\n",
       "      <td>...</td>\n",
       "      <td>...</td>\n",
       "      <td>...</td>\n",
       "      <td>...</td>\n",
       "      <td>...</td>\n",
       "      <td>...</td>\n",
       "    </tr>\n",
       "    <tr>\n",
       "      <th>7065</th>\n",
       "      <td>California</td>\n",
       "      <td>M</td>\n",
       "      <td>Bachelor</td>\n",
       "      <td>23406</td>\n",
       "      <td>71941.0</td>\n",
       "      <td>73.0</td>\n",
       "      <td>0</td>\n",
       "      <td>Personal Auto</td>\n",
       "      <td>Four-Door Car</td>\n",
       "      <td>198.234764</td>\n",
       "    </tr>\n",
       "    <tr>\n",
       "      <th>7066</th>\n",
       "      <td>California</td>\n",
       "      <td>F</td>\n",
       "      <td>College</td>\n",
       "      <td>3096.51</td>\n",
       "      <td>21604.0</td>\n",
       "      <td>79.0</td>\n",
       "      <td>0</td>\n",
       "      <td>Corporate Auto</td>\n",
       "      <td>Four-Door Car</td>\n",
       "      <td>379.200000</td>\n",
       "    </tr>\n",
       "    <tr>\n",
       "      <th>7067</th>\n",
       "      <td>California</td>\n",
       "      <td>M</td>\n",
       "      <td>Bachelor</td>\n",
       "      <td>8163.89</td>\n",
       "      <td>0.0</td>\n",
       "      <td>85.0</td>\n",
       "      <td>3</td>\n",
       "      <td>Corporate Auto</td>\n",
       "      <td>Four-Door Car</td>\n",
       "      <td>790.784983</td>\n",
       "    </tr>\n",
       "    <tr>\n",
       "      <th>7068</th>\n",
       "      <td>California</td>\n",
       "      <td>M</td>\n",
       "      <td>College</td>\n",
       "      <td>7524.44</td>\n",
       "      <td>21941.0</td>\n",
       "      <td>96.0</td>\n",
       "      <td>0</td>\n",
       "      <td>Personal Auto</td>\n",
       "      <td>Four-Door Car</td>\n",
       "      <td>691.200000</td>\n",
       "    </tr>\n",
       "    <tr>\n",
       "      <th>7069</th>\n",
       "      <td>California</td>\n",
       "      <td>M</td>\n",
       "      <td>College</td>\n",
       "      <td>2611.84</td>\n",
       "      <td>0.0</td>\n",
       "      <td>77.0</td>\n",
       "      <td>0</td>\n",
       "      <td>Corporate Auto</td>\n",
       "      <td>Two-Door Car</td>\n",
       "      <td>369.600000</td>\n",
       "    </tr>\n",
       "  </tbody>\n",
       "</table>\n",
       "<p>12074 rows × 10 columns</p>\n",
       "</div>"
      ],
      "text/plain": [
       "           state gender             education customer lifetime value  \\\n",
       "0     Washington    NaN                Master                     NaN   \n",
       "1        Arizona      F              Bachelor              697953.59%   \n",
       "2         Nevada      F              Bachelor             1288743.17%   \n",
       "3     California      M              Bachelor              764586.18%   \n",
       "4     Washington      M  High School or Below              536307.65%   \n",
       "...          ...    ...                   ...                     ...   \n",
       "7065  California      M              Bachelor                   23406   \n",
       "7066  California      F               College                 3096.51   \n",
       "7067  California      M              Bachelor                 8163.89   \n",
       "7068  California      M               College                 7524.44   \n",
       "7069  California      M               College                 2611.84   \n",
       "\n",
       "       income  monthly premium auto number of open complaints     policy type  \\\n",
       "0         0.0                1000.0                    1/0/00   Personal Auto   \n",
       "1         0.0                  94.0                    1/0/00   Personal Auto   \n",
       "2     48767.0                 108.0                    1/0/00   Personal Auto   \n",
       "3         0.0                 106.0                    1/0/00  Corporate Auto   \n",
       "4     36357.0                  68.0                    1/0/00   Personal Auto   \n",
       "...       ...                   ...                       ...             ...   \n",
       "7065  71941.0                  73.0                         0   Personal Auto   \n",
       "7066  21604.0                  79.0                         0  Corporate Auto   \n",
       "7067      0.0                  85.0                         3  Corporate Auto   \n",
       "7068  21941.0                  96.0                         0   Personal Auto   \n",
       "7069      0.0                  77.0                         0  Corporate Auto   \n",
       "\n",
       "      vehicle class  total claim amount  \n",
       "0     Four-Door Car            2.704934  \n",
       "1     Four-Door Car         1131.464935  \n",
       "2      Two-Door Car          566.472247  \n",
       "3               SUV          529.881344  \n",
       "4     Four-Door Car           17.269323  \n",
       "...             ...                 ...  \n",
       "7065  Four-Door Car          198.234764  \n",
       "7066  Four-Door Car          379.200000  \n",
       "7067  Four-Door Car          790.784983  \n",
       "7068  Four-Door Car          691.200000  \n",
       "7069   Two-Door Car          369.600000  \n",
       "\n",
       "[12074 rows x 10 columns]"
      ]
     },
     "execution_count": 55,
     "metadata": {},
     "output_type": "execute_result"
    }
   ],
   "source": [
    "cons_df"
   ]
  },
  {
   "cell_type": "code",
   "execution_count": 56,
   "metadata": {},
   "outputs": [
    {
     "name": "stdout",
     "output_type": "stream",
     "text": [
      "state \n",
      " California    3032\n",
      "Oregon        2601\n",
      "Arizona       1630\n",
      "Nevada         882\n",
      "Washington     768\n",
      "Cali           120\n",
      "AZ              74\n",
      "WA              30\n",
      "Name: state, dtype: int64\n",
      "gender \n",
      " F         4560\n",
      "M         4368\n",
      "Male        40\n",
      "female      30\n",
      "Femal       17\n",
      "Name: gender, dtype: int64\n",
      "education \n",
      " Bachelor                2719\n",
      "College                 2682\n",
      "High School or Below    2616\n",
      "Master                   752\n",
      "Doctor                   344\n",
      "Bachelors                 24\n",
      "Name: education, dtype: int64\n",
      "customer lifetime value \n",
      " 5246.278375     6\n",
      "4984.618655     6\n",
      "26197.414980    6\n",
      "20096.893370    6\n",
      "13727.799720    6\n",
      "               ..\n",
      "9406.381948     1\n",
      "9407.452895     1\n",
      "9408.343519     1\n",
      "9409.143498     1\n",
      "7228.993348     1\n",
      "Name: customer lifetime value, Length: 8211, dtype: int64\n",
      "income \n",
      " 0.0        2294\n",
      "95697.0      13\n",
      "61108.0       8\n",
      "10621.0       8\n",
      "26876.0       8\n",
      "           ... \n",
      "48329.0       1\n",
      "56379.0       1\n",
      "79157.0       1\n",
      "96721.0       1\n",
      "24743.0       1\n",
      "Name: income, Length: 5655, dtype: int64\n",
      "monthly premium auto \n",
      " 65.0       351\n",
      "66.0       312\n",
      "71.0       304\n",
      "73.0       303\n",
      "63.0       290\n",
      "          ... \n",
      "147.0        1\n",
      "35354.0      1\n",
      "35353.0      1\n",
      "281.0        1\n",
      "163.0        1\n",
      "Name: monthly premium auto, Length: 209, dtype: int64\n",
      "number of open complaints \n",
      " 0         5629\n",
      "1/0/00    1626\n",
      "1          765\n",
      "2          283\n",
      "1/1/00     247\n",
      "3          230\n",
      "4          119\n",
      "1/2/00      93\n",
      "1/3/00      60\n",
      "5           44\n",
      "1/4/00      29\n",
      "1/5/00      12\n",
      "Name: number of open complaints, dtype: int64\n",
      "policy type \n",
      " Personal Auto     6792\n",
      "Corporate Auto    1965\n",
      "Special Auto       380\n",
      "Name: policy type, dtype: int64\n",
      "vehicle class \n",
      " Four-Door Car    4641\n",
      "Two-Door Car     1896\n",
      "SUV              1774\n",
      "Sports Car        483\n",
      "Luxury SUV        182\n",
      "Luxury Car        161\n",
      "Name: vehicle class, dtype: int64\n",
      "total claim amount \n",
      " 316.800000    119\n",
      "292.800000    111\n",
      "312.000000    108\n",
      "350.400000    107\n",
      "321.600000    104\n",
      "             ... \n",
      "820.018767      1\n",
      "245.661376      1\n",
      "346.319404      1\n",
      "401.484738      1\n",
      "232.945977      1\n",
      "Name: total claim amount, Length: 5070, dtype: int64\n"
     ]
    }
   ],
   "source": [
    "for column in cons_df:\n",
    "    print(column, '\\n', cons_df[column].value_counts())"
   ]
  },
  {
   "cell_type": "markdown",
   "metadata": {},
   "source": [
    "## Cleaning State Column\n"
   ]
  },
  {
   "cell_type": "code",
   "execution_count": 57,
   "metadata": {
    "scrolled": true
   },
   "outputs": [
    {
     "name": "stderr",
     "output_type": "stream",
     "text": [
      "C:\\Users\\Lenovo\\anaconda3\\lib\\site-packages\\ipykernel_launcher.py:1: SettingWithCopyWarning: \n",
      "A value is trying to be set on a copy of a slice from a DataFrame\n",
      "\n",
      "See the caveats in the documentation: https://pandas.pydata.org/pandas-docs/stable/user_guide/indexing.html#returning-a-view-versus-a-copy\n",
      "  \"\"\"Entry point for launching an IPython kernel.\n",
      "C:\\Users\\Lenovo\\anaconda3\\lib\\site-packages\\ipykernel_launcher.py:2: SettingWithCopyWarning: \n",
      "A value is trying to be set on a copy of a slice from a DataFrame\n",
      "\n",
      "See the caveats in the documentation: https://pandas.pydata.org/pandas-docs/stable/user_guide/indexing.html#returning-a-view-versus-a-copy\n",
      "  \n",
      "C:\\Users\\Lenovo\\anaconda3\\lib\\site-packages\\ipykernel_launcher.py:3: SettingWithCopyWarning: \n",
      "A value is trying to be set on a copy of a slice from a DataFrame\n",
      "\n",
      "See the caveats in the documentation: https://pandas.pydata.org/pandas-docs/stable/user_guide/indexing.html#returning-a-view-versus-a-copy\n",
      "  This is separate from the ipykernel package so we can avoid doing imports until\n"
     ]
    }
   ],
   "source": [
    "cons_df.loc[:,'state'][cons_df['state']=='AZ']='Arizona'\n",
    "cons_df.loc[:,'state'][cons_df['state']=='WA']='Washington'\n",
    "cons_df.loc[:,'state'][cons_df['state']=='Cali']='California'"
   ]
  },
  {
   "cell_type": "code",
   "execution_count": 58,
   "metadata": {},
   "outputs": [
    {
     "data": {
      "text/plain": [
       "California    3152\n",
       "Oregon        2601\n",
       "Arizona       1704\n",
       "Nevada         882\n",
       "Washington     798\n",
       "Name: state, dtype: int64"
      ]
     },
     "execution_count": 58,
     "metadata": {},
     "output_type": "execute_result"
    }
   ],
   "source": [
    "cons_df['state'].value_counts()"
   ]
  },
  {
   "cell_type": "code",
   "execution_count": 59,
   "metadata": {},
   "outputs": [
    {
     "data": {
      "text/plain": [
       "0               NaN\n",
       "1        697953.59%\n",
       "2       1288743.17%\n",
       "3        764586.18%\n",
       "4        536307.65%\n",
       "           ...     \n",
       "7065          23406\n",
       "7066        3096.51\n",
       "7067        8163.89\n",
       "7068        7524.44\n",
       "7069        2611.84\n",
       "Name: customer lifetime value, Length: 12074, dtype: object"
      ]
     },
     "execution_count": 59,
     "metadata": {},
     "output_type": "execute_result"
    }
   ],
   "source": [
    "cons_df['customer lifetime value']"
   ]
  },
  {
   "cell_type": "markdown",
   "metadata": {},
   "source": [
    "## Cleaning column gender"
   ]
  },
  {
   "cell_type": "code",
   "execution_count": null,
   "metadata": {},
   "outputs": [],
   "source": [
    "cons_df['gender'].value_counts()"
   ]
  },
  {
   "cell_type": "code",
   "execution_count": null,
   "metadata": {},
   "outputs": [],
   "source": [
    "cons_df.loc[:, 'gender'][cons_df['gender']=='Male']='M'"
   ]
  },
  {
   "cell_type": "code",
   "execution_count": null,
   "metadata": {},
   "outputs": [],
   "source": [
    "cons_df.loc[:, 'gender'][cons_df['gender']=='Femal']='F'\n",
    "cons_df.loc[:, 'gender'][cons_df['gender']=='female']='F'"
   ]
  },
  {
   "cell_type": "markdown",
   "metadata": {},
   "source": [
    "## Cleaning column costomer lifetime value"
   ]
  },
  {
   "cell_type": "code",
   "execution_count": 61,
   "metadata": {},
   "outputs": [],
   "source": [
    "## remove % 'customer lifetime value'\n",
    "\n",
    "cons_df['customer lifetime value'] = cons_df['customer lifetime value'].str.replace('%', \"\")\n",
    "\n",
    "#change to numeric \n",
    "\n",
    "cons_df['customer lifetime value'] =  pd.to_numeric(cons_df['customer lifetime value'])\n",
    "#files_all.info() # check "
   ]
  },
  {
   "cell_type": "code",
   "execution_count": 70,
   "metadata": {},
   "outputs": [
    {
     "name": "stdout",
     "output_type": "stream",
     "text": [
      "0              NaN\n",
      "1        697953.59\n",
      "2       1288743.17\n",
      "3        764586.18\n",
      "4        536307.65\n",
      "           ...    \n",
      "7065           NaN\n",
      "7066           NaN\n",
      "7067           NaN\n",
      "7068           NaN\n",
      "7069           NaN\n",
      "Name: customer lifetime value, Length: 12074, dtype: float64\n"
     ]
    }
   ],
   "source": [
    "print(cons_df['customer lifetime value'])"
   ]
  },
  {
   "cell_type": "code",
   "execution_count": 102,
   "metadata": {},
   "outputs": [
    {
     "name": "stdout",
     "output_type": "stream",
     "text": [
      "0         5629\n",
      "1/0/00    1626\n",
      "1          765\n",
      "2          283\n",
      "1/1/00     247\n",
      "3          230\n",
      "4          119\n",
      "1/2/00      93\n",
      "1/3/00      60\n",
      "5           44\n",
      "1/4/00      29\n",
      "1/5/00      12\n",
      "Name: number of open complaints, dtype: int64\n"
     ]
    }
   ],
   "source": [
    "print(cons_df['number of open complaints'].value_counts())"
   ]
  },
  {
   "cell_type": "code",
   "execution_count": 125,
   "metadata": {},
   "outputs": [
    {
     "ename": "SyntaxError",
     "evalue": "invalid syntax (<ipython-input-125-92cd3015a9b5>, line 1)",
     "output_type": "error",
     "traceback": [
      "\u001b[1;36m  File \u001b[1;32m\"<ipython-input-125-92cd3015a9b5>\"\u001b[1;36m, line \u001b[1;32m1\u001b[0m\n\u001b[1;33m    cons_df['number of open compaints'].apply(lambda x: re.match(r'/(\\d)/', x) if type(x) == 'string')\u001b[0m\n\u001b[1;37m                                                                                                     ^\u001b[0m\n\u001b[1;31mSyntaxError\u001b[0m\u001b[1;31m:\u001b[0m invalid syntax\n"
     ]
    }
   ],
   "source": [
    "cons_df['number of open compaints'].apply(lambda x: re.match(r'/(\\d)/', x) if type(x) == 'string')\n",
    "        \n",
    "        \n",
    "    "
   ]
  },
  {
   "cell_type": "code",
   "execution_count": 107,
   "metadata": {},
   "outputs": [
    {
     "name": "stdout",
     "output_type": "stream",
     "text": [
      "0         5629\n",
      "1/0/00    1626\n",
      "1          765\n",
      "2          283\n",
      "1/1/00     247\n",
      "3          230\n",
      "4          119\n",
      "1/2/00      93\n",
      "1/3/00      60\n",
      "5           44\n",
      "1/4/00      29\n",
      "1/5/00      12\n",
      "Name: number of open complaints, dtype: int64\n"
     ]
    }
   ],
   "source": [
    "print(cons_df['number of open complaints'].value_counts())"
   ]
  }
 ],
 "metadata": {
  "kernelspec": {
   "display_name": "Python 3",
   "language": "python",
   "name": "python3"
  },
  "language_info": {
   "codemirror_mode": {
    "name": "ipython",
    "version": 3
   },
   "file_extension": ".py",
   "mimetype": "text/x-python",
   "name": "python",
   "nbconvert_exporter": "python",
   "pygments_lexer": "ipython3",
   "version": "3.7.6"
  }
 },
 "nbformat": 4,
 "nbformat_minor": 4
}
