{
 "cells": [
  {
   "cell_type": "code",
   "execution_count": 4,
   "id": "c31e3d21-7433-42e3-ae85-990f65c0f4e7",
   "metadata": {},
   "outputs": [],
   "source": [
    "import pandas as pd\n",
    "from sklearn.linear_model import Lasso, Ridge,ElasticNet, LinearRegression"
   ]
  },
  {
   "cell_type": "markdown",
   "id": "3a6f30fd-cac3-49f0-95da-7672cbe7cabc",
   "metadata": {},
   "source": [
    "Define a function that takes a list of models and train (and tests) them so we can try a lot of them without repeating code.\n",
    "Use the function to check LinearRegressor,Lasso,Ridge and KNeighborsRegressor.\n",
    "Use feature selection techniques to select subset of features to train the model with(if necessary).\n",
    "Check and discuss the results."
   ]
  },
  {
   "cell_type": "code",
   "execution_count": 3,
   "id": "02701a28-e900-4c1f-ab11-b2ea976552fd",
   "metadata": {},
   "outputs": [],
   "source": [
    "df = pd.read_csv('Data/Data_Marketing_Customer_Analysis_Round3.csv')"
   ]
  },
  {
   "cell_type": "code",
   "execution_count": 5,
   "id": "e8f7b330-b7a5-43a2-bcbb-ef04cedd80c6",
   "metadata": {},
   "outputs": [],
   "source": [
    "list_of_models = [LinearRegression,Lasso, Ridge, ElasticNet]"
   ]
  },
  {
   "cell_type": "code",
   "execution_count": null,
   "id": "23716d14-69c7-45ce-8693-a3ab48ff3299",
   "metadata": {},
   "outputs": [],
   "source": [
    "def apply_model(list_of_models, X_train, ytrain, alpha):\n",
    "    for model in list_of_models:\n",
    "        model = model(alpha)\n",
    "        model.fit(X_train, y_train)\n",
    "        print(f\"{model.__class__.__name__}: Train -> {model.score(X_train, y_train)}, Test -> {model.score(X_test, y_test)}\")"
   ]
  },
  {
   "cell_type": "code",
   "execution_count": null,
   "id": "1433dbd0-fc9d-4863-af26-487c80f9ff45",
   "metadata": {},
   "outputs": [],
   "source": []
  }
 ],
 "metadata": {
  "kernelspec": {
   "display_name": "Python 3 (ipykernel)",
   "language": "python",
   "name": "python3"
  },
  "language_info": {
   "codemirror_mode": {
    "name": "ipython",
    "version": 3
   },
   "file_extension": ".py",
   "mimetype": "text/x-python",
   "name": "python",
   "nbconvert_exporter": "python",
   "pygments_lexer": "ipython3",
   "version": "3.9.7"
  }
 },
 "nbformat": 4,
 "nbformat_minor": 5
}
