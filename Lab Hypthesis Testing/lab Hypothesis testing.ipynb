{
 "cells": [
  {
   "cell_type": "markdown",
   "id": "bca20278",
   "metadata": {},
   "source": [
    "1. It is assumed that the mean systolic blood pressure is `μ = 120 mm Hg`. In the Honolulu Heart Study, a sample of `n = 100` people had an average systolic blood pressure of 130.1 mm Hg with a standard deviation of 21.21 mm Hg. Is the group significantly different (with respect to systolic blood pressure!) from the regular population?\n",
    "\n",
    "   - Set up the hypothesis test.\n",
    "   - Write down all the steps followed for setting up the test.\n",
    "   - Calculate the test statistic by hand and also code it in Python. It should be 4.76190. What decision can you make based on this calculated value?\n",
    "\n",
    "mu = 120 \n",
    "n = 100\n",
    "x_ = 130.1\n",
    "std = 21.21\n",
    "\n",
    "Ho: The sample mean of 130,1 mm is not significantly higher than the population mean of 120 mm HG.\n",
    "\n",
    "\n",
    "H0: mu = 120\n",
    "\n",
    "Ha: mu != 120\n",
    "\n",
    "\n",
    "Statistic: (130.1 - 120)/ (21.21/sqrd(100)\n",
    "        t = 10,1 /2,121\n",
    "        t= 4,762\n",
    "        \n",
    "        tc (0,975, 100)= 1,984 < t = 4,762\n",
    "        \n",
    "        \n",
    "        Confidence intervall: \n",
    "        \n",
    " We can reject the Nullhypothesis: The group really has a higher blood preasure than the mena population. \n",
    " \n",
    " \n",
    "        \n",
    "\n"
   ]
  },
  {
   "cell_type": "code",
   "execution_count": 9,
   "id": "71f384c1",
   "metadata": {
    "scrolled": false
   },
   "outputs": [],
   "source": [
    "import scipy.stats as stats\n",
    "import numpy as np\n",
    "import matplotlib.pyplot as plt\n",
    "import numpy as np\n",
    "import scipy.stats as stats\n",
    "import math"
   ]
  },
  {
   "cell_type": "code",
   "execution_count": 2,
   "id": "4e32938a",
   "metadata": {},
   "outputs": [],
   "source": [
    "mu = 120 \n",
    "n = 100\n",
    "x_ = 130.1\n",
    "std = 21.21"
   ]
  },
  {
   "cell_type": "code",
   "execution_count": 5,
   "id": "81bd9f57",
   "metadata": {},
   "outputs": [],
   "source": [
    "t = (x_ - mu)/(std / np.sqrt(n))"
   ]
  },
  {
   "cell_type": "code",
   "execution_count": 6,
   "id": "d4058680",
   "metadata": {},
   "outputs": [
    {
     "data": {
      "text/plain": [
       "4.761904761904759"
      ]
     },
     "execution_count": 6,
     "metadata": {},
     "output_type": "execute_result"
    }
   ],
   "source": [
    "t"
   ]
  },
  {
   "cell_type": "code",
   "execution_count": 13,
   "id": "ff91d07a",
   "metadata": {},
   "outputs": [],
   "source": [
    "tc = abs(stats.t.ppf(1-(0.05/2), df=n))\n"
   ]
  },
  {
   "cell_type": "code",
   "execution_count": 14,
   "id": "201fc14f",
   "metadata": {},
   "outputs": [
    {
     "data": {
      "text/plain": [
       "1.9839715184496334"
      ]
     },
     "execution_count": 14,
     "metadata": {},
     "output_type": "execute_result"
    }
   ],
   "source": [
    "tc"
   ]
  },
  {
   "cell_type": "code",
   "execution_count": 15,
   "id": "ae17947f",
   "metadata": {},
   "outputs": [
    {
     "data": {
      "text/plain": [
       "True"
      ]
     },
     "execution_count": 15,
     "metadata": {},
     "output_type": "execute_result"
    }
   ],
   "source": [
    "t>tc"
   ]
  }
 ],
 "metadata": {
  "kernelspec": {
   "display_name": "Python 3 (ipykernel)",
   "language": "python",
   "name": "python3"
  },
  "language_info": {
   "codemirror_mode": {
    "name": "ipython",
    "version": 3
   },
   "file_extension": ".py",
   "mimetype": "text/x-python",
   "name": "python",
   "nbconvert_exporter": "python",
   "pygments_lexer": "ipython3",
   "version": "3.9.7"
  }
 },
 "nbformat": 4,
 "nbformat_minor": 5
}
