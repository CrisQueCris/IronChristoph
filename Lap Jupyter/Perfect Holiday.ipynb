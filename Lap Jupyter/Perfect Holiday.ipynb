{
 "cells": [
  {
   "cell_type": "markdown",
   "metadata": {},
   "source": [
    "This notebook shows a perfect Holiday of person XY"
   ]
  },
  {
   "cell_type": "code",
   "execution_count": 4,
   "metadata": {},
   "outputs": [],
   "source": [
    "def get_name(): \n",
    "    # Asks for input of person's name\n",
    "    per_name = input(\"Please enter the Name of the Person that's going on holidays\")\n",
    "    return per_name"
   ]
  },
  {
   "cell_type": "code",
   "execution_count": 5,
   "metadata": {},
   "outputs": [
    {
     "name": "stdout",
     "output_type": "stream",
     "text": [
      "Please enter the Name of the Person that's going on holidaysBerta\n"
     ]
    },
    {
     "data": {
      "text/plain": [
       "'Berta'"
      ]
     },
     "execution_count": 5,
     "metadata": {},
     "output_type": "execute_result"
    }
   ],
   "source": [
    "get_name() #Name of the Person going on holiday\n",
    "print(dest)"
   ]
  },
  {
   "cell_type": "markdown",
   "metadata": {},
   "source": [
    "![Berta](https://media-exp1.licdn.com/dms/image/C4D03AQHK35xUyqwrrQ/profile-displayphoto-shrink_800_800/0/1630939030116?e=1653523200&v=beta&t=xv0GH_PC0ynFsrWPx_lLTP-MWHxl5i2sp0F3mIjtGoE\n",
    ")"
   ]
  },
  {
   "cell_type": "code",
   "execution_count": 3,
   "metadata": {},
   "outputs": [],
   "source": [
    "def get_holiday_dest():\n",
    "    #gets imput for a holiday destination\n",
    "    dest = input('What is you favorite holiday destination?')\n",
    "    return dest"
   ]
  },
  {
   "cell_type": "code",
   "execution_count": 5,
   "metadata": {},
   "outputs": [
    {
     "name": "stdout",
     "output_type": "stream",
     "text": [
      "What is you favorite holiday destination?roma\n"
     ]
    },
    {
     "data": {
      "text/plain": [
       "'roma'"
      ]
     },
     "execution_count": 5,
     "metadata": {},
     "output_type": "execute_result"
    }
   ],
   "source": [
    "get_holiday_dest() #Holiday destination\n",
    "print(dest)"
   ]
  },
  {
   "cell_type": "markdown",
   "metadata": {},
   "source": [
    "![Rome](https://cdn.getyourguide.com/img/location/5ffeb3e11c2dd.jpeg/88.jpg)"
   ]
  },
  {
   "cell_type": "markdown",
   "metadata": {},
   "source": [
    "## The things `per_name` likes to do in `dest`\n",
    "- Drink\n",
    "- Party\n",
    "- Sleep"
   ]
  },
  {
   "cell_type": "code",
   "execution_count": null,
   "metadata": {},
   "outputs": [],
   "source": []
  }
 ],
 "metadata": {
  "kernelspec": {
   "display_name": "Python 3",
   "language": "python",
   "name": "python3"
  },
  "language_info": {
   "codemirror_mode": {
    "name": "ipython",
    "version": 3
   },
   "file_extension": ".py",
   "mimetype": "text/x-python",
   "name": "python",
   "nbconvert_exporter": "python",
   "pygments_lexer": "ipython3",
   "version": "3.7.6"
  }
 },
 "nbformat": 4,
 "nbformat_minor": 4
}
