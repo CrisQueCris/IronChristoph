{
 "cells": [
  {
   "cell_type": "markdown",
   "id": "2823e184",
   "metadata": {},
   "source": [
    "## import_required_libs"
   ]
  },
  {
   "cell_type": "markdown",
   "id": "de368c51",
   "metadata": {},
   "source": [
    "<b>import the required python libraries"
   ]
  },
  {
   "cell_type": "code",
   "execution_count": 1,
   "id": "d6de3ef4",
   "metadata": {},
   "outputs": [
    {
     "name": "stderr",
     "output_type": "stream",
     "text": [
      "C:\\Users\\Lenovo\\anaconda3\\envs\\DA_Env\\lib\\site-packages\\statsmodels\\compat\\pandas.py:61: FutureWarning: pandas.Int64Index is deprecated and will be removed from pandas in a future version. Use pandas.Index with the appropriate dtype instead.\n",
      "  from pandas import Int64Index as NumericIndex\n"
     ]
    }
   ],
   "source": [
    "import pandas as pd\n",
    "import numpy as np;\n",
    "import scipy;\n",
    "## plotting libraries\n",
    "from matplotlib import pyplot as plt\n",
    "import seaborn as sns\n",
    "## stats Libraries\n",
    "from scipy import stats\n",
    "import statsmodels.api as sm\n",
    "## Sklearn libraries\n",
    "from sklearn import model_selection\n",
    "from sklearn import metrics as metrics\n",
    "from sklearn import preprocessing\n",
    "from sklearn import linear_model as lm\n",
    "%matplotlib inline"
   ]
  },
  {
   "cell_type": "markdown",
   "id": "5e9033c3",
   "metadata": {},
   "source": [
    "## load_regression_sample_datasets"
   ]
  },
  {
   "cell_type": "markdown",
   "id": "a07a28f0",
   "metadata": {},
   "source": [
    "<b>load regression sample datasets"
   ]
  },
  {
   "cell_type": "code",
   "execution_count": 2,
   "id": "4557edaa",
   "metadata": {},
   "outputs": [],
   "source": [
    "import sklearn.datasets\n",
    "## comment the unneeded data sets\n",
    "\n",
    "## regression dat sets \n",
    "X, y=sklearn.datasets.load_diabetes(return_X_y=True, as_frame=True)"
   ]
  },
  {
   "cell_type": "markdown",
   "id": "13ccb0a4",
   "metadata": {},
   "source": [
    "## train_test_split"
   ]
  },
  {
   "cell_type": "markdown",
   "id": "b78ac871",
   "metadata": {},
   "source": [
    "<b>splitting the data into train and test sets"
   ]
  },
  {
   "cell_type": "code",
   "execution_count": 3,
   "id": "206aa3df",
   "metadata": {},
   "outputs": [],
   "source": [
    "X_train, X_test, y_train, y_test=model_selection.train_test_split(X, y, test_size=.20,random_state=123)"
   ]
  },
  {
   "cell_type": "markdown",
   "id": "22514060",
   "metadata": {},
   "source": [
    "## linear_regression"
   ]
  },
  {
   "cell_type": "markdown",
   "id": "b7b35551",
   "metadata": {},
   "source": [
    "<b>Linear Regression"
   ]
  },
  {
   "cell_type": "code",
   "execution_count": 4,
   "id": "f3666657",
   "metadata": {},
   "outputs": [],
   "source": [
    "model= lm.LinearRegression()\n",
    "model.fit(X_train, y_train)\n",
    "y_pred=model.predict(X_test)\n",
    "y_pred_train=model.predict(X_train)"
   ]
  },
  {
   "cell_type": "markdown",
   "id": "9374c7f8",
   "metadata": {},
   "source": [
    "## regression_model_evaluating"
   ]
  },
  {
   "cell_type": "markdown",
   "id": "58b19ebb",
   "metadata": {},
   "source": [
    "<b>Regression Model Metrics"
   ]
  },
  {
   "cell_type": "code",
   "execution_count": 5,
   "id": "df68c35c",
   "metadata": {},
   "outputs": [
    {
     "data": {
      "text/html": [
       "<div>\n",
       "<style scoped>\n",
       "    .dataframe tbody tr th:only-of-type {\n",
       "        vertical-align: middle;\n",
       "    }\n",
       "\n",
       "    .dataframe tbody tr th {\n",
       "        vertical-align: top;\n",
       "    }\n",
       "\n",
       "    .dataframe thead th {\n",
       "        text-align: right;\n",
       "    }\n",
       "</style>\n",
       "<table border=\"1\" class=\"dataframe\">\n",
       "  <thead>\n",
       "    <tr style=\"text-align: right;\">\n",
       "      <th></th>\n",
       "      <th>Error_metric</th>\n",
       "      <th>Train</th>\n",
       "      <th>Test</th>\n",
       "    </tr>\n",
       "  </thead>\n",
       "  <tbody>\n",
       "    <tr>\n",
       "      <th>0</th>\n",
       "      <td>Mean error</td>\n",
       "      <td>-0.00</td>\n",
       "      <td>0.42</td>\n",
       "    </tr>\n",
       "    <tr>\n",
       "      <th>1</th>\n",
       "      <td>Mean absolute error</td>\n",
       "      <td>43.60</td>\n",
       "      <td>42.88</td>\n",
       "    </tr>\n",
       "    <tr>\n",
       "      <th>2</th>\n",
       "      <td>Mean squared error</td>\n",
       "      <td>2908.99</td>\n",
       "      <td>2724.24</td>\n",
       "    </tr>\n",
       "    <tr>\n",
       "      <th>3</th>\n",
       "      <td>Root mean squared error</td>\n",
       "      <td>53.94</td>\n",
       "      <td>52.19</td>\n",
       "    </tr>\n",
       "    <tr>\n",
       "      <th>4</th>\n",
       "      <td>Mean absolute percentual error</td>\n",
       "      <td>39.38</td>\n",
       "      <td>0.00</td>\n",
       "    </tr>\n",
       "    <tr>\n",
       "      <th>5</th>\n",
       "      <td>R2</td>\n",
       "      <td>0.50</td>\n",
       "      <td>0.57</td>\n",
       "    </tr>\n",
       "    <tr>\n",
       "      <th>6</th>\n",
       "      <td>adjusted_R2</td>\n",
       "      <td>0.49</td>\n",
       "      <td>0.51</td>\n",
       "    </tr>\n",
       "  </tbody>\n",
       "</table>\n",
       "</div>"
      ],
      "text/plain": [
       "                     Error_metric   Train    Test\n",
       "0                      Mean error   -0.00    0.42\n",
       "1             Mean absolute error   43.60   42.88\n",
       "2              Mean squared error 2908.99 2724.24\n",
       "3         Root mean squared error   53.94   52.19\n",
       "4  Mean absolute percentual error   39.38    0.00\n",
       "5                              R2    0.50    0.57\n",
       "6                     adjusted_R2    0.49    0.51"
      ]
     },
     "execution_count": 5,
     "metadata": {},
     "output_type": "execute_result"
    }
   ],
   "source": [
    "def evaluate_regression_model(y_train, y_pred_train, y_test, y_pred_test):\n",
    "\n",
    "    ME_train = np.mean(y_train - y_pred_train)\n",
    "    ME_test  = np.mean(y_test - y_pred_test)\n",
    "\n",
    "    MAE_train = metrics.mean_absolute_error(y_train,y_pred_train)\n",
    "    MAE_test  = metrics.mean_absolute_error(y_test,y_pred_test)\n",
    "\n",
    "    MSE_train = metrics.mean_squared_error(y_train,y_pred_train)\n",
    "    MSE_test  = metrics.mean_squared_error(y_test,y_pred_test)\n",
    "\n",
    "    RMSE_train = np.sqrt(MSE_train)\n",
    "    RMSE_test  = np.sqrt(MSE_test)\n",
    "\n",
    "    MAPE_train = np.mean((np.abs(y_train- y_pred_train) / y_train)* 100.)\n",
    "    MAPE_test  = np.mean((np.abs(y_test-y_pred_test) / np.exp(y_test))* 100.)\n",
    "\n",
    "    R2_train = metrics.r2_score(y_train,y_pred_train)\n",
    "    R2_test  = metrics.r2_score(y_test,y_pred_test)\n",
    "\n",
    "    adjusted_R2_train = 1 - (1-R2_train)*(len(y_train)-1)/(len(y_train)-X_train.shape[1]-1)\n",
    "    adjusted_R2_test = 1 - (1-R2_test)*(len(y_test)-1)/(len(y_test)-X_test.shape[1]-1)\n",
    "    \n",
    "    performance = pd.DataFrame({'Error_metric': ['Mean error','Mean absolute error','Mean squared error',\n",
    "                                             'Root mean squared error','Mean absolute percentual error',\n",
    "                                             'R2','adjusted_R2'],\n",
    "                            'Train': [ME_train, MAE_train, MSE_train, RMSE_train, MAPE_train, R2_train,adjusted_R2_train],\n",
    "                            'Test' : [ME_test, MAE_test , MSE_test, RMSE_test, MAPE_test, R2_test,adjusted_R2_test]})\n",
    "\n",
    "    pd.options.display.float_format = '{:.2f}'.format\n",
    "\n",
    "    df_train = pd.DataFrame({'Real': y_train, 'Predicted': y_pred_train})\n",
    "    df_test  = pd.DataFrame({'Real': y_test,  'Predicted': y_pred_test})\n",
    "\n",
    "    return performance, df_train, df_test\n",
    "\n",
    "## calling the function \n",
    "error_metrics_df,y_train_vs_predicted, y_test_vs_predicted=evaluate_regression_model(y_train, model.predict(X_train),y_test,y_pred)\n",
    "error_metrics_df"
   ]
  }
 ],
 "metadata": {
  "kernelspec": {
   "display_name": "Python 3 (ipykernel)",
   "language": "python",
   "name": "python3"
  },
  "language_info": {
   "codemirror_mode": {
    "name": "ipython",
    "version": 3
   },
   "file_extension": ".py",
   "mimetype": "text/x-python",
   "name": "python",
   "nbconvert_exporter": "python",
   "pygments_lexer": "ipython3",
   "version": "3.9.7"
  }
 },
 "nbformat": 4,
 "nbformat_minor": 5
}
