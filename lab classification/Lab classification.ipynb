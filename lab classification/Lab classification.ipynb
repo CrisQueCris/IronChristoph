{
 "cells": [
  {
   "cell_type": "code",
   "execution_count": 3,
   "id": "694ab764-fde5-499f-8c45-f981782a40be",
   "metadata": {},
   "outputs": [],
   "source": [
    "import pandas as pd\n",
    "from sklearn.preprocessing import StandardScaler\n",
    "from sklearn.model_selection import train_test_split\n",
    "import numpy as np\n",
    "from sklearn.neighbors   import KNeighborsClassifier as knn\n",
    "from sklearn.linear_model import LogisticRegression as LR\n",
    "from sklearn.metrics import confusion_matrix, ConfusionMatrixDisplay\n",
    "\n",
    "\n",
    "from sklearn.linear_model import LogisticRegression\n",
    "from sklearn.preprocessing import PowerTransformer\n",
    "from sklearn.metrics import accuracy_score, precision_score, recall_score, confusion_matrix\n",
    "from sklearn.metrics import plot_confusion_matrix\n",
    "\n",
    "\n",
    "from sklearn.model_selection import cross_val_score\n",
    "from sklearn.model_selection import cross_val_predict"
   ]
  },
  {
   "cell_type": "code",
   "execution_count": 4,
   "id": "81d3879a-fd06-4630-ab24-0f7477452b7f",
   "metadata": {},
   "outputs": [],
   "source": [
    "df = pd.read_csv('DATA_Customer-churn_magda.csv')"
   ]
  },
  {
   "cell_type": "code",
   "execution_count": 5,
   "id": "f33ced0d-249d-499f-9ee0-7e4397c043ab",
   "metadata": {},
   "outputs": [
    {
     "name": "stdout",
     "output_type": "stream",
     "text": [
      "<class 'pandas.core.frame.DataFrame'>\n",
      "RangeIndex: 7043 entries, 0 to 7042\n",
      "Data columns (total 16 columns):\n",
      " #   Column            Non-Null Count  Dtype  \n",
      "---  ------            --------------  -----  \n",
      " 0   gender            7043 non-null   object \n",
      " 1   SeniorCitizen     7043 non-null   int64  \n",
      " 2   Partner           7043 non-null   object \n",
      " 3   Dependents        7043 non-null   object \n",
      " 4   tenure            7043 non-null   int64  \n",
      " 5   PhoneService      7043 non-null   object \n",
      " 6   OnlineSecurity    7043 non-null   object \n",
      " 7   OnlineBackup      7043 non-null   object \n",
      " 8   DeviceProtection  7043 non-null   object \n",
      " 9   TechSupport       7043 non-null   object \n",
      " 10  StreamingTV       7043 non-null   object \n",
      " 11  StreamingMovies   7043 non-null   object \n",
      " 12  Contract          7043 non-null   object \n",
      " 13  MonthlyCharges    7043 non-null   float64\n",
      " 14  TotalCharges      7043 non-null   object \n",
      " 15  Churn             7043 non-null   object \n",
      "dtypes: float64(1), int64(2), object(13)\n",
      "memory usage: 880.5+ KB\n"
     ]
    }
   ],
   "source": [
    "df.info()"
   ]
  },
  {
   "cell_type": "code",
   "execution_count": 6,
   "id": "d0c3a5ba-b4ac-4ee1-9eaa-af400765bc1b",
   "metadata": {},
   "outputs": [
    {
     "data": {
      "text/plain": [
       "gender  SeniorCitizen  Partner  Dependents  tenure  PhoneService  OnlineSecurity  OnlineBackup  DeviceProtection  TechSupport  StreamingTV  StreamingMovies  Contract  MonthlyCharges  TotalCharges  Churn\n",
       "False   False          False    False       False   False         False           False         False             False        False        False            False     False           False         False    7043\n",
       "dtype: int64"
      ]
     },
     "execution_count": 6,
     "metadata": {},
     "output_type": "execute_result"
    }
   ],
   "source": [
    "df.isnull().value_counts()"
   ]
  },
  {
   "cell_type": "code",
   "execution_count": 7,
   "id": "f21570e2-4a84-4c55-be2a-f979b924af9b",
   "metadata": {},
   "outputs": [],
   "source": [
    "df['TotalCharges'] = pd.to_numeric(df['TotalCharges'], errors='coerce')\n",
    "df['TotalCharges'] = df['TotalCharges'].fillna(df['TotalCharges'].mean())\n",
    "df['TotalCharges'] = pd.to_numeric(df['TotalCharges'])"
   ]
  },
  {
   "cell_type": "code",
   "execution_count": 10,
   "id": "962b9368-2f30-476c-828c-7cbabe2fa506",
   "metadata": {},
   "outputs": [],
   "source": [
    "features = ['tenure', 'SeniorCitizen', 'MonthlyCharges', 'TotalCharges']"
   ]
  },
  {
   "cell_type": "code",
   "execution_count": 11,
   "id": "62d26d50-aa4e-4637-bbb1-712dc78acb5a",
   "metadata": {},
   "outputs": [],
   "source": [
    "scaler = StandardScaler()"
   ]
  },
  {
   "cell_type": "code",
   "execution_count": 12,
   "id": "b44e725b-ca9f-4813-b358-8af20a788a02",
   "metadata": {},
   "outputs": [],
   "source": [
    "X_scaled = scaler.fit(df[features])\n",
    "X_scaled = scaler.transform(df[features])"
   ]
  },
  {
   "cell_type": "code",
   "execution_count": 13,
   "id": "458e1906-7733-4415-86eb-32d930690b07",
   "metadata": {},
   "outputs": [],
   "source": [
    "X_scaled_df = pd.DataFrame(X_scaled, columns = features)"
   ]
  },
  {
   "cell_type": "code",
   "execution_count": 14,
   "id": "4cbb46c3-246f-4b80-8395-8a5ad2ad552f",
   "metadata": {},
   "outputs": [],
   "source": [
    "X_train, X_test, y_train, y_test = train_test_split(X_scaled_df, df['Churn'])"
   ]
  },
  {
   "cell_type": "markdown",
   "id": "f9e2d7cb-7ae4-47f9-931c-7161f9831858",
   "metadata": {},
   "source": [
    "Knn Model"
   ]
  },
  {
   "cell_type": "code",
   "execution_count": 15,
   "id": "32305fa0-6061-4e36-ab84-7e1912745737",
   "metadata": {},
   "outputs": [],
   "source": [
    "y_train = np.array(y_train)"
   ]
  },
  {
   "cell_type": "code",
   "execution_count": 16,
   "id": "30451238-a3bf-4430-a156-84ead9638031",
   "metadata": {},
   "outputs": [],
   "source": [
    "knn_model = knn(n_neighbors=8)"
   ]
  },
  {
   "cell_type": "code",
   "execution_count": 17,
   "id": "7322cedf-25ba-4754-a68b-43d3d49daaf3",
   "metadata": {},
   "outputs": [],
   "source": [
    "knn_model = knn_model.fit(X_train, y_train)"
   ]
  },
  {
   "cell_type": "code",
   "execution_count": 18,
   "id": "1cf4045d-8384-48b0-a9fe-608edae1c45a",
   "metadata": {},
   "outputs": [],
   "source": [
    "y_pred_knn = knn_model.predict(X_test)"
   ]
  },
  {
   "cell_type": "code",
   "execution_count": 19,
   "id": "3d83e5c1-d6a3-48b3-88eb-a94697e5744a",
   "metadata": {},
   "outputs": [
    {
     "data": {
      "text/plain": [
       "1.0"
      ]
     },
     "execution_count": 19,
     "metadata": {},
     "output_type": "execute_result"
    }
   ],
   "source": []
  },
  {
   "cell_type": "code",
   "execution_count": 20,
   "id": "32196c7a-306d-497f-8f99-e4ab4180473c",
   "metadata": {},
   "outputs": [
    {
     "data": {
      "text/plain": [
       "<sklearn.metrics._plot.confusion_matrix.ConfusionMatrixDisplay at 0x7fb06d3f7a60>"
      ]
     },
     "execution_count": 20,
     "metadata": {},
     "output_type": "execute_result"
    },
    {
     "data": {
      "image/png": "[encoded data removed]",
      "text/plain": [
       "<Figure size 432x288 with 2 Axes>"
      ]
     },
     "metadata": {
      "needs_background": "light"
     },
     "output_type": "display_data"
    }
   ],
   "source": [
    "cm_knn = confusion_matrix(y_test, y_pred_knn)\n",
    "\n",
    "ConfusionMatrixDisplay(confusion_matrix = cm_knn).plot()"
   ]
  },
  {
   "cell_type": "code",
   "execution_count": 38,
   "id": "158fdb1b-52fd-4be8-9172-15528c86d588",
   "metadata": {},
   "outputs": [
    {
     "name": "stdout",
     "output_type": "stream",
     "text": [
      "Knn_score:  1.0\n"
     ]
    },
    {
     "data": {
      "text/html": [
       "<div>\n",
       "<style scoped>\n",
       "    .dataframe tbody tr th:only-of-type {\n",
       "        vertical-align: middle;\n",
       "    }\n",
       "\n",
       "    .dataframe tbody tr th {\n",
       "        vertical-align: top;\n",
       "    }\n",
       "\n",
       "    .dataframe thead th {\n",
       "        text-align: right;\n",
       "    }\n",
       "</style>\n",
       "<table border=\"1\" class=\"dataframe\">\n",
       "  <thead>\n",
       "    <tr style=\"text-align: right;\">\n",
       "      <th></th>\n",
       "      <th>Error_metric</th>\n",
       "      <th>Train</th>\n",
       "      <th>Test</th>\n",
       "    </tr>\n",
       "  </thead>\n",
       "  <tbody>\n",
       "    <tr>\n",
       "      <th>0</th>\n",
       "      <td>Accuracy</td>\n",
       "      <td>0.817115</td>\n",
       "      <td>0.784214</td>\n",
       "    </tr>\n",
       "    <tr>\n",
       "      <th>1</th>\n",
       "      <td>Precision</td>\n",
       "      <td>0.742857</td>\n",
       "      <td>0.688525</td>\n",
       "    </tr>\n",
       "    <tr>\n",
       "      <th>2</th>\n",
       "      <td>Recall</td>\n",
       "      <td>0.454148</td>\n",
       "      <td>0.424242</td>\n",
       "    </tr>\n",
       "  </tbody>\n",
       "</table>\n",
       "</div>"
      ],
      "text/plain": [
       "  Error_metric     Train      Test\n",
       "0     Accuracy  0.817115  0.784214\n",
       "1    Precision  0.742857  0.688525\n",
       "2       Recall  0.454148  0.424242"
      ]
     },
     "metadata": {},
     "output_type": "display_data"
    },
    {
     "name": "stdout",
     "output_type": "stream",
     "text": [
      "0.78 accuracy with a standard deviation of 0.01\n"
     ]
    }
   ],
   "source": [
    "y_pred_knn = knn_model.predict(X_test)\n",
    "y_pred_train_knn = knn_model.predict(X_train)\n",
    "y_pred_test_knn = knn_model.predict(X_test)\n",
    "\n",
    "knn_score = knn_model.score(X_test, y_pred_test_knn)\n",
    "print('Knn_score: ' , knn_score)\n",
    "\n",
    "performance_knn = pd.DataFrame({'Error_metric': ['Accuracy','Precision','Recall'],\n",
    "                               'Train': [accuracy_score(y_train, y_pred_train_knn),\n",
    "                                         precision_score(y_train, y_pred_train_knn, average='binary', pos_label=\"Yes\"),\n",
    "                                         recall_score(y_train, y_pred_train_knn, average='binary', pos_label=\"Yes\")],\n",
    "                               'Test': [accuracy_score(y_test, y_pred_test_knn),\n",
    "                                        precision_score(y_test, y_pred_test_knn,average='binary', pos_label=\"Yes\"),\n",
    "                                        recall_score(y_test, y_pred_test_knn,average='binary', pos_label=\"Yes\")]})\n",
    "display(performance_knn)\n",
    "\n",
    "\n",
    "knn_scores = cross_val_score(knn_model, X_train, y_train, cv=10)\n",
    "scores\n",
    "\n",
    "print(\"%0.2f accuracy with a standard deviation of %0.2f\" % (knn_scores.mean(), scores.std()))\n"
   ]
  },
  {
   "cell_type": "markdown",
   "id": "e20eb9ce-b496-4321-8d5b-465b7258c152",
   "metadata": {},
   "source": [
    "Logistic Model"
   ]
  },
  {
   "cell_type": "code",
   "execution_count": 22,
   "id": "5ecafcb2-eff9-416c-a5ab-208f36dc26d0",
   "metadata": {},
   "outputs": [],
   "source": [
    "logreg = LR()"
   ]
  },
  {
   "cell_type": "code",
   "execution_count": 23,
   "id": "3b657f6e-24aa-4996-91a1-df72c89469e8",
   "metadata": {},
   "outputs": [],
   "source": [
    "log_model = logreg.fit(X_train, y_train)"
   ]
  },
  {
   "cell_type": "code",
   "execution_count": 42,
   "id": "2a16c468-9adf-43b5-b00b-4e20d80a2ea8",
   "metadata": {},
   "outputs": [
    {
     "name": "stdout",
     "output_type": "stream",
     "text": [
      "Log_score:  1.0\n",
      "[0.82041588 0.7826087  0.78219697 0.79734848 0.8125     0.76704545\n",
      " 0.77272727 0.78219697 0.79356061 0.78977273]\n",
      "0.79 accuracy with a standard deviation of 0.01\n"
     ]
    }
   ],
   "source": [
    "y_pred_log = logreg.predict(X_test)\n",
    "y_pred_train_log = log_model.predict(X_train)\n",
    "y_pred_test_log = log_model.predict(X_test)\n",
    "\n",
    "log_score = knn_model.score(X_test, y_pred_test_knn)\n",
    "print('Log_score: ' , knn_score)\n",
    "\n",
    "\n",
    "log_scores = cross_val_score(log_model, X_train, y_train, cv=10)\n",
    "print(log_scores)\n",
    "\n",
    "print(\"%0.2f accuracy with a standard deviation of %0.2f\" % (log_scores.mean(), scores.std()))\n",
    "\n"
   ]
  },
  {
   "cell_type": "markdown",
   "id": "54e0857c-e328-4efd-b16a-2baad6f51b54",
   "metadata": {},
   "source": [
    "Evaluation"
   ]
  },
  {
   "cell_type": "code",
   "execution_count": 25,
   "id": "c0b3b2e8-a012-4188-8001-359b7810af4f",
   "metadata": {},
   "outputs": [
    {
     "data": {
      "text/plain": [
       "<sklearn.metrics._plot.confusion_matrix.ConfusionMatrixDisplay at 0x7fb06f13b040>"
      ]
     },
     "execution_count": 25,
     "metadata": {},
     "output_type": "execute_result"
    },
    {
     "data": {
      "image/png": "[encoded data removed]",
      "text/plain": [
       "<Figure size 432x288 with 2 Axes>"
      ]
     },
     "metadata": {
      "needs_background": "light"
     },
     "output_type": "display_data"
    }
   ],
   "source": [
    "cm_log = confusion_matrix(y_test, y_pred_log)\n",
    "ConfusionMatrixDisplay(confusion_matrix = cm_log).plot()\n"
   ]
  },
  {
   "cell_type": "code",
   "execution_count": 26,
   "id": "365672d9-7651-438b-8a93-70b33a1b636c",
   "metadata": {},
   "outputs": [],
   "source": [
    "from sklearn.linear_model import LogisticRegression\n",
    "from sklearn.preprocessing import PowerTransformer\n",
    "from sklearn.metrics import accuracy_score, precision_score, recall_score, confusion_matrix\n",
    "from sklearn.metrics import plot_confusion_matrix"
   ]
  },
  {
   "cell_type": "code",
   "execution_count": 27,
   "id": "38aeef7e-6c3d-46aa-9532-fe00f791303a",
   "metadata": {},
   "outputs": [
    {
     "data": {
      "text/plain": [
       "'No'"
      ]
     },
     "execution_count": 27,
     "metadata": {},
     "output_type": "execute_result"
    }
   ],
   "source": [
    "y_pred_train_log[0]"
   ]
  },
  {
   "cell_type": "code",
   "execution_count": 28,
   "id": "9aa485d4-f72a-4888-bef9-958cb93275c4",
   "metadata": {},
   "outputs": [],
   "source": [
    "y_train = np.array(y_train)"
   ]
  },
  {
   "cell_type": "code",
   "execution_count": 29,
   "id": "ecddba3b-7c90-4d52-9c3d-4df0d75d182f",
   "metadata": {},
   "outputs": [
    {
     "data": {
      "text/plain": [
       "'No'"
      ]
     },
     "execution_count": 29,
     "metadata": {},
     "output_type": "execute_result"
    }
   ],
   "source": [
    "y_train[0]"
   ]
  },
  {
   "cell_type": "code",
   "execution_count": 30,
   "id": "f7f2cc1b-9912-4c4b-90fa-dee0cf21ad9d",
   "metadata": {},
   "outputs": [
    {
     "data": {
      "text/html": [
       "<div>\n",
       "<style scoped>\n",
       "    .dataframe tbody tr th:only-of-type {\n",
       "        vertical-align: middle;\n",
       "    }\n",
       "\n",
       "    .dataframe tbody tr th {\n",
       "        vertical-align: top;\n",
       "    }\n",
       "\n",
       "    .dataframe thead th {\n",
       "        text-align: right;\n",
       "    }\n",
       "</style>\n",
       "<table border=\"1\" class=\"dataframe\">\n",
       "  <thead>\n",
       "    <tr style=\"text-align: right;\">\n",
       "      <th></th>\n",
       "      <th>Error_metric</th>\n",
       "      <th>Train</th>\n",
       "      <th>Test</th>\n",
       "    </tr>\n",
       "  </thead>\n",
       "  <tbody>\n",
       "    <tr>\n",
       "      <th>0</th>\n",
       "      <td>Accuracy</td>\n",
       "      <td>0.790988</td>\n",
       "      <td>0.794435</td>\n",
       "    </tr>\n",
       "    <tr>\n",
       "      <th>1</th>\n",
       "      <td>Precision</td>\n",
       "      <td>0.647702</td>\n",
       "      <td>0.699700</td>\n",
       "    </tr>\n",
       "    <tr>\n",
       "      <th>2</th>\n",
       "      <td>Recall</td>\n",
       "      <td>0.430859</td>\n",
       "      <td>0.470707</td>\n",
       "    </tr>\n",
       "  </tbody>\n",
       "</table>\n",
       "</div>"
      ],
      "text/plain": [
       "  Error_metric     Train      Test\n",
       "0     Accuracy  0.790988  0.794435\n",
       "1    Precision  0.647702  0.699700\n",
       "2       Recall  0.430859  0.470707"
      ]
     },
     "metadata": {},
     "output_type": "display_data"
    }
   ],
   "source": [
    "performance_log = pd.DataFrame({'Error_metric': ['Accuracy','Precision','Recall'],\n",
    "                               'Train': [accuracy_score(y_train, y_pred_train_log),\n",
    "                                         precision_score(y_train, y_pred_train_log, average='binary', pos_label=\"Yes\"),\n",
    "                                         recall_score(y_train, y_pred_train_log, average='binary', pos_label=\"Yes\")],\n",
    "                               'Test': [accuracy_score(y_test, y_pred_test_log),\n",
    "                                        precision_score(y_test, y_pred_test_log,average='binary', pos_label=\"Yes\"),\n",
    "                                        recall_score(y_test, y_pred_test_log,average='binary', pos_label=\"Yes\")]})\n",
    "display(performance_log)"
   ]
  },
  {
   "cell_type": "markdown",
   "id": "9eba44b7-a758-4c44-9f80-c1ede8645522",
   "metadata": {},
   "source": [
    "Round 3\n",
    "\n",
    "apply K-fold cross validation on your models before and check the model score. Note: So far we have not balanced the data."
   ]
  },
  {
   "cell_type": "code",
   "execution_count": null,
   "id": "891e4791-b412-48ef-af03-d1e72527164f",
   "metadata": {},
   "outputs": [],
   "source": []
  }
 ],
 "metadata": {
  "kernelspec": {
   "display_name": "Python 3 (ipykernel)",
   "language": "python",
   "name": "python3"
  },
  "language_info": {
   "codemirror_mode": {
    "name": "ipython",
    "version": 3
   },
   "file_extension": ".py",
   "mimetype": "text/x-python",
   "name": "python",
   "nbconvert_exporter": "python",
   "pygments_lexer": "ipython3",
   "version": "3.9.7"
  }
 },
 "nbformat": 4,
 "nbformat_minor": 5
}
