{
 "cells": [
  {
   "cell_type": "code",
   "execution_count": 142,
   "id": "694ab764-fde5-499f-8c45-f981782a40be",
   "metadata": {},
   "outputs": [],
   "source": [
    "import pandas as pd\n",
    "from sklearn.preprocessing import StandardScaler\n",
    "from sklearn.model_selection import train_test_split\n",
    "import numpy as np\n",
    "from sklearn.neighbors   import KNeighborsClassifier as knn\n",
    "from sklearn.linear_model import LogisticRegression as LR\n",
    "from sklearn.metrics import confusion_matrix, ConfusionMatrixDisplay"
   ]
  },
  {
   "cell_type": "code",
   "execution_count": 40,
   "id": "81d3879a-fd06-4630-ab24-0f7477452b7f",
   "metadata": {},
   "outputs": [],
   "source": [
    "df = pd.read_csv('DATA_Customer-churn_magda.csv')"
   ]
  },
  {
   "cell_type": "code",
   "execution_count": 41,
   "id": "f33ced0d-249d-499f-9ee0-7e4397c043ab",
   "metadata": {},
   "outputs": [
    {
     "name": "stdout",
     "output_type": "stream",
     "text": [
      "<class 'pandas.core.frame.DataFrame'>\n",
      "RangeIndex: 7043 entries, 0 to 7042\n",
      "Data columns (total 16 columns):\n",
      " #   Column            Non-Null Count  Dtype  \n",
      "---  ------            --------------  -----  \n",
      " 0   gender            7043 non-null   object \n",
      " 1   SeniorCitizen     7043 non-null   int64  \n",
      " 2   Partner           7043 non-null   object \n",
      " 3   Dependents        7043 non-null   object \n",
      " 4   tenure            7043 non-null   int64  \n",
      " 5   PhoneService      7043 non-null   object \n",
      " 6   OnlineSecurity    7043 non-null   object \n",
      " 7   OnlineBackup      7043 non-null   object \n",
      " 8   DeviceProtection  7043 non-null   object \n",
      " 9   TechSupport       7043 non-null   object \n",
      " 10  StreamingTV       7043 non-null   object \n",
      " 11  StreamingMovies   7043 non-null   object \n",
      " 12  Contract          7043 non-null   object \n",
      " 13  MonthlyCharges    7043 non-null   float64\n",
      " 14  TotalCharges      7043 non-null   object \n",
      " 15  Churn             7043 non-null   object \n",
      "dtypes: float64(1), int64(2), object(13)\n",
      "memory usage: 880.5+ KB\n"
     ]
    }
   ],
   "source": [
    "df.info()"
   ]
  },
  {
   "cell_type": "code",
   "execution_count": 45,
   "id": "d0c3a5ba-b4ac-4ee1-9eaa-af400765bc1b",
   "metadata": {},
   "outputs": [
    {
     "data": {
      "text/plain": [
       "gender  SeniorCitizen  Partner  Dependents  tenure  PhoneService  OnlineSecurity  OnlineBackup  DeviceProtection  TechSupport  StreamingTV  StreamingMovies  Contract  MonthlyCharges  TotalCharges  Churn\n",
       "False   False          False    False       False   False         False           False         False             False        False        False            False     False           False         False    7043\n",
       "dtype: int64"
      ]
     },
     "execution_count": 45,
     "metadata": {},
     "output_type": "execute_result"
    }
   ],
   "source": [
    "df.isnull().value_counts()"
   ]
  },
  {
   "cell_type": "code",
   "execution_count": 53,
   "id": "f21570e2-4a84-4c55-be2a-f979b924af9b",
   "metadata": {},
   "outputs": [],
   "source": [
    "df['TotalCharges'] = pd.to_numeric(df['TotalCharges'], errors='coerce')"
   ]
  },
  {
   "cell_type": "code",
   "execution_count": 54,
   "id": "e481251c-c8e4-486b-b785-b5cf5595416f",
   "metadata": {},
   "outputs": [],
   "source": [
    "df['TotalCharges'] = df['TotalCharges'].fillna(df['TotalCharges'].mean())"
   ]
  },
  {
   "cell_type": "code",
   "execution_count": 56,
   "id": "27130bb3-a8f7-456e-b15e-225bafafa410",
   "metadata": {},
   "outputs": [],
   "source": [
    "df['TotalCharges'] = pd.to_numeric(df['TotalCharges'])"
   ]
  },
  {
   "cell_type": "code",
   "execution_count": 46,
   "id": "962b9368-2f30-476c-828c-7cbabe2fa506",
   "metadata": {},
   "outputs": [],
   "source": [
    "features = ['tenure', 'SeniorCitizen', 'MonthlyCharges', 'TotalCharges']"
   ]
  },
  {
   "cell_type": "code",
   "execution_count": 60,
   "id": "62d26d50-aa4e-4637-bbb1-712dc78acb5a",
   "metadata": {},
   "outputs": [],
   "source": [
    "scaler = StandardScaler()"
   ]
  },
  {
   "cell_type": "code",
   "execution_count": 64,
   "id": "b44e725b-ca9f-4813-b358-8af20a788a02",
   "metadata": {},
   "outputs": [],
   "source": [
    "X_scaled = scaler.transform(df[features])"
   ]
  },
  {
   "cell_type": "code",
   "execution_count": 92,
   "id": "458e1906-7733-4415-86eb-32d930690b07",
   "metadata": {},
   "outputs": [],
   "source": [
    "X_scaled_df = pd.DataFrame(X_scaled, columns = features)"
   ]
  },
  {
   "cell_type": "code",
   "execution_count": 93,
   "id": "4cbb46c3-246f-4b80-8395-8a5ad2ad552f",
   "metadata": {},
   "outputs": [],
   "source": [
    "X_train, X_test, y_train, y_test = train_test_split(X_scaled_df, df['Churn'])"
   ]
  },
  {
   "cell_type": "markdown",
   "id": "f9e2d7cb-7ae4-47f9-931c-7161f9831858",
   "metadata": {},
   "source": [
    "Knn Model"
   ]
  },
  {
   "cell_type": "code",
   "execution_count": 129,
   "id": "30451238-a3bf-4430-a156-84ead9638031",
   "metadata": {},
   "outputs": [],
   "source": [
    "knn = knn()"
   ]
  },
  {
   "cell_type": "code",
   "execution_count": 130,
   "id": "7322cedf-25ba-4754-a68b-43d3d49daaf3",
   "metadata": {},
   "outputs": [],
   "source": [
    "knn_model = knn.fit(X_train, y_train)"
   ]
  },
  {
   "cell_type": "code",
   "execution_count": 131,
   "id": "1cf4045d-8384-48b0-a9fe-608edae1c45a",
   "metadata": {},
   "outputs": [],
   "source": [
    "y_pred_knn = knn.predict(X_test)"
   ]
  },
  {
   "cell_type": "code",
   "execution_count": 149,
   "id": "32196c7a-306d-497f-8f99-e4ab4180473c",
   "metadata": {},
   "outputs": [
    {
     "data": {
      "text/plain": [
       "<sklearn.metrics._plot.confusion_matrix.ConfusionMatrixDisplay at 0x1a2e0df7430>"
      ]
     },
     "execution_count": 149,
     "metadata": {},
     "output_type": "execute_result"
    },
    {
     "data": {
      "image/png": "[encoded data removed]",
      "text/plain": [
       "<Figure size 432x288 with 2 Axes>"
      ]
     },
     "metadata": {
      "needs_background": "light"
     },
     "output_type": "display_data"
    }
   ],
   "source": [
    "cm_knn = confusion_matrix(y_test, y_pred_knn)\n",
    "\n",
    "ConfusionMatrixDisplay(confusion_matrix = cm_knn).plot()"
   ]
  },
  {
   "cell_type": "markdown",
   "id": "e20eb9ce-b496-4321-8d5b-465b7258c152",
   "metadata": {},
   "source": [
    "Logistic Model"
   ]
  },
  {
   "cell_type": "code",
   "execution_count": 111,
   "id": "5ecafcb2-eff9-416c-a5ab-208f36dc26d0",
   "metadata": {},
   "outputs": [],
   "source": [
    "logreg = LR()"
   ]
  },
  {
   "cell_type": "code",
   "execution_count": 112,
   "id": "3b657f6e-24aa-4996-91a1-df72c89469e8",
   "metadata": {},
   "outputs": [],
   "source": [
    "log_model = logreg.fit(X_train, y_train)"
   ]
  },
  {
   "cell_type": "code",
   "execution_count": 126,
   "id": "2a16c468-9adf-43b5-b00b-4e20d80a2ea8",
   "metadata": {},
   "outputs": [],
   "source": [
    "y_pred_log = logreg.predict(X_test)"
   ]
  },
  {
   "cell_type": "markdown",
   "id": "54e0857c-e328-4efd-b16a-2baad6f51b54",
   "metadata": {},
   "source": [
    "Evaluation"
   ]
  },
  {
   "cell_type": "code",
   "execution_count": 148,
   "id": "c0b3b2e8-a012-4188-8001-359b7810af4f",
   "metadata": {},
   "outputs": [
    {
     "data": {
      "text/plain": [
       "<sklearn.metrics._plot.confusion_matrix.ConfusionMatrixDisplay at 0x1a2e0ea0e20>"
      ]
     },
     "execution_count": 148,
     "metadata": {},
     "output_type": "execute_result"
    },
    {
     "data": {
      "image/png": "[encoded data removed]",
      "text/plain": [
       "<Figure size 432x288 with 2 Axes>"
      ]
     },
     "metadata": {
      "needs_background": "light"
     },
     "output_type": "display_data"
    }
   ],
   "source": [
    "cm_log = confusion_matrix(y_test, y_pred_log)\n",
    "ConfusionMatrixDisplay(confusion_matrix = cm_log).plot()\n"
   ]
  }
 ],
 "metadata": {
  "kernelspec": {
   "display_name": "Python 3 (ipykernel)",
   "language": "python",
   "name": "python3"
  },
  "language_info": {
   "codemirror_mode": {
    "name": "ipython",
    "version": 3
   },
   "file_extension": ".py",
   "mimetype": "text/x-python",
   "name": "python",
   "nbconvert_exporter": "python",
   "pygments_lexer": "ipython3",
   "version": "3.9.7"
  }
 },
 "nbformat": 4,
 "nbformat_minor": 5
}
