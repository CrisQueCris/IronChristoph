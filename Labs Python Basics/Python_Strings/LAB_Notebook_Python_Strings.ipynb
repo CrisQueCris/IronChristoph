{
 "cells": [
  {
   "cell_type": "markdown",
   "metadata": {},
   "source": [
    "# Lab -Python Strings Operations"
   ]
  },
  {
   "cell_type": "markdown",
   "metadata": {},
   "source": [
    "# Challenge 1 - Combining Strings\n",
    "\n",
    "Combining strings is an important skill to acquire. There are multiple ways of combining strings in Python, as well as combining strings with variables. We will explore this in the first challenge. In the cell below, combine the strings in the list and add spaces between the strings (do not add a space after the last string). Insert a period after the last string."
   ]
  },
  {
   "cell_type": "code",
   "execution_count": 2,
   "metadata": {},
   "outputs": [
    {
     "name": "stdout",
     "output_type": "stream",
     "text": [
      " I am strengthening my programming skills in order to become a great Data Analyst.\n"
     ]
    }
   ],
   "source": [
    "str_list = ['I', 'am', 'strengthening', 'my', 'programming', 'skills', 'in', 'order', 'to', 'become', 'a', 'great', 'Data','Analyst']\n",
    "# Your code here:\n",
    "sentence = ''\n",
    "for word in str_list:\n",
    "    sentence = sentence + ' ' + word\n",
    "sentence = sentence + '.'    \n",
    "print(sentence)\n"
   ]
  },
  {
   "cell_type": "markdown",
   "metadata": {},
   "source": [
    "In the cell below, use the list of strings to create a grocery list. Start the list with the string `Grocery list: ` and include a comma and a space between each item except for the last one. Include a period at the end. Only include foods in the list that start with the letter 'b' and ensure all foods are lower case."
   ]
  },
  {
   "cell_type": "code",
   "execution_count": 11,
   "metadata": {},
   "outputs": [
    {
     "name": "stdout",
     "output_type": "stream",
     "text": [
      "Grocery list: bananas, bread, brownie mix, broccoli.\n"
     ]
    }
   ],
   "source": [
    "food_list = ['Bananas', 'Chocolate', 'bread', 'diapers', 'Ice Cream', 'Brownie Mix', 'broccoli']\n",
    "# Your code here:\n",
    "grocery_list = 'Grocery list: '\n",
    "for item in food_list:\n",
    "    item = item.lower()\n",
    "    if item[0] == 'b':\n",
    "        grocery_list = grocery_list + item\n",
    "    if food_list[len(food_list)-1] != item and item[0] == 'b':\n",
    "        grocery_list = grocery_list + ', '\n",
    "    elif food_list[len(food_list)-1] == item: \n",
    "        grocery_list = grocery_list + '.'\n",
    "print(grocery_list)"
   ]
  },
  {
   "cell_type": "markdown",
   "metadata": {},
   "source": [
    "In the cell below, compute the area of a circle using its radius and insert the radius and the area between `string1` and `string2`. Make sure to include spaces between the variable and the strings. \n",
    "\n",
    "Note: You can use the techniques we have learned so far or use f-strings. F-strings allow us to embed code inside strings. You can read more about f-strings [here](https://www.python.org/dev/peps/pep-0498/)."
   ]
  },
  {
   "cell_type": "code",
   "execution_count": 24,
   "metadata": {},
   "outputs": [
    {
     "name": "stdout",
     "output_type": "stream",
     "text": [
      "The area of the circle with radius: 4.5 is: 63.61725123519331.\n",
      "The area of the circle with radius:   4.5   is:   63.61725123519331 .\n",
      "The area of the circle with radius: 4.5 is: 63.61725123519331.\n"
     ]
    }
   ],
   "source": [
    "import math\n",
    "\n",
    "string1 = \"The area of the circle with radius:\"\n",
    "string2  = \"is:\"\n",
    "radius = 4.5\n",
    "pi = math.pi\n",
    "area= pi*radius**2\n",
    "# Your code here:\n",
    "concat_circle = string1 + ' ' + str(radius) + ' ' + string2 + ' ' + str(area) +  '.'\n",
    "print(concat_circle)\n",
    "\n",
    "print(string1,' ',radius, ' ', string2, ' ', area, \".\" )\n",
    "\n",
    "\n",
    "concat_fstring = f'{string1} {radius} {string2} {area}.'\n",
    "print(concat_fstring)"
   ]
  },
  {
   "cell_type": "markdown",
   "metadata": {},
   "source": [
    "# (Optional) Challenge 2 - Splitting Strings\n",
    "\n",
    "We have first looked at combining strings into one long string. There are times where we need to do the opposite and split the string into smaller components for further analysis. \n",
    "\n",
    "In the cell below, split the string into a list of strings using the space delimiter. Count the frequency of each word in the string in a dictionary. Strip the periods, line breaks and commas from the text. Make sure to remove empty strings from your dictionary."
   ]
  },
  {
   "cell_type": "code",
   "execution_count": 41,
   "metadata": {},
   "outputs": [
    {
     "name": "stdout",
     "output_type": "stream",
     "text": [
      "The Word List is: ['Some', 'say', 'the', 'world', 'will', 'end', 'in', 'fire,', 'Some', 'say', 'in', 'ice.', 'From', 'what', 'I’ve', 'tasted', 'of', 'desire', 'I', 'hold', 'with', 'those', 'who', 'favor', 'fire.', 'But', 'if', 'it', 'had', 'to', 'perish', 'twice,', 'I', 'think', 'I', 'know', 'enough', 'of', 'hate', 'To', 'say', 'that', 'for', 'destruction', 'ice', 'Is', 'also', 'great', 'And', 'would', 'suffice.']\n",
      "The total word count is: 44\n",
      "The dictionary has the following entries: dict_items([('Some', 2), ('say', 8), ('the', 1), ('world', 1), ('will', 1), ('end', 1), ('in', 4), ('fire,', 1), ('ice.', 4), ('From', 4), ('what', 4), ('I’ve', 4), ('tasted', 4), ('of', 7), ('desire', 4), ('I', 6), ('hold', 4), ('with', 4), ('those', 4), ('who', 4), ('favor', 4), ('fire.', 4), ('But', 4), ('if', 4), ('it', 4), ('had', 4), ('to', 4), ('perish', 4), ('twice,', 4), ('think', 5), ('know', 6), ('enough', 6), ('hate', 7), ('To', 7), ('that', 8), ('for', 8), ('destruction', 8), ('ice', 8), ('Is', 8), ('also', 8), ('great', 8), ('And', 8), ('would', 8), ('suffice.', 8)])\n"
     ]
    }
   ],
   "source": [
    "poem = \"\"\"Some say the world will end in fire,\n",
    "Some say in ice.\n",
    "From what I’ve tasted of desire\n",
    "I hold with those who favor fire.\n",
    "But if it had to perish twice,\n",
    "I think I know enough of hate\n",
    "To say that for destruction ice\n",
    "Is also great\n",
    "And would suffice.\"\"\"\n",
    "\n",
    "# Your code here:\n",
    "word_list = poem.split()\n",
    "print(f'The Word List is: {word_list}')\n",
    "total_word_count = len(set(word_list))\n",
    "print(f'The total word count is: {total_word_count}')\n",
    "\n",
    "word_dict = {}\n",
    "count = 1\n",
    "for word in word_list:\n",
    "    if word in word_dict.keys():\n",
    "        count += 1 \n",
    "    word_dict[word] = count\n",
    "\n",
    "print(f'The dictionary has the following entries: {word_dict.items()}' )"
   ]
  },
  {
   "cell_type": "markdown",
   "metadata": {},
   "source": [
    "In the cell below, find all the words that appear in the text and do not appear in the blacklist. You must parse the string but can choose any data structure you wish for the words that do not appear in the blacklist. Remove all non letter characters and convert all words to lower case."
   ]
  },
  {
   "cell_type": "code",
   "execution_count": 6,
   "metadata": {},
   "outputs": [],
   "source": [
    "blacklist = ['and', 'as', 'an', 'a', 'the', 'in', 'it']\n",
    "\n",
    "poem = \"\"\"I was angry with my friend; \n",
    "I told my wrath, my wrath did end.\n",
    "I was angry with my foe: \n",
    "I told it not, my wrath did grow. \n",
    "\n",
    "And I waterd it in fears,\n",
    "Night & morning with my tears: \n",
    "And I sunned it with smiles,\n",
    "And with soft deceitful wiles. \n",
    "\n",
    "And it grew both day and night. \n",
    "Till it bore an apple bright. \n",
    "And my foe beheld it shine,\n",
    "And he knew that it was mine. \n",
    "\n",
    "And into my garden stole, \n",
    "When the night had veild the pole; \n",
    "In the morning glad I see; \n",
    "My foe outstretched beneath the tree.\"\"\"\n",
    "\n",
    "# Your code here:"
   ]
  }
 ],
 "metadata": {
  "file_extension": ".py",
  "kernelspec": {
   "display_name": "Python 3",
   "language": "python",
   "name": "python3"
  },
  "language_info": {
   "codemirror_mode": {
    "name": "ipython",
    "version": 3
   },
   "file_extension": ".py",
   "mimetype": "text/x-python",
   "name": "python",
   "nbconvert_exporter": "python",
   "pygments_lexer": "ipython3",
   "version": "3.7.6"
  },
  "mimetype": "text/x-python",
  "name": "python",
  "npconvert_exporter": "python",
  "pygments_lexer": "ipython3",
  "version": 3
 },
 "nbformat": 4,
 "nbformat_minor": 2
}
